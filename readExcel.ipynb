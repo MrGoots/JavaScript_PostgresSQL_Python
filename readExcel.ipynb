{
 "cells": [
  {
   "cell_type": "code",
   "execution_count": null,
   "metadata": {},
   "outputs": [],
   "source": [
    "import os\n",
    "import pandas as pd"
   ]
  },
  {
   "cell_type": "code",
   "execution_count": null,
   "metadata": {},
   "outputs": [],
   "source": [
    "\n",
    "## Final headers\n",
    "headers = ['CASE_NUMBER', \n",
    "           'RECEIVED_DATE',\n",
    "           'DECISION_DATE',\n",
    "           'SOC_TITLE',\n",
    "           'FULL_TIME_POSITION',\n",
    "           'BEGIN_DATE',\n",
    "           'END_DATE',\n",
    "           'EMPLOYER_NAME',\n",
    "           'EMPLOYER_CITY',\n",
    "           'EMPLOYER_STATE',\n",
    "           'EMPLOYER_POSTAL_CODE',\n",
    "           'WAGE_RATE_OF_PAY_FROM',\n",
    "           'WAGE_UNIT_OF_PAY',\n",
    "           'PREVAILING_WAGE',\n",
    "           'PW_UNIT_OF_PAY']\n",
    "\n",
    "## Possible alternative headers\n",
    "ep1 = ['EMPLOYER_POC_ADDRESS_1']\n",
    "ep2 = ['EMPLOYER_POC_ADDRESS_2']\n",
    "h1b = ['H1B_DEPENDENT','H_1B_DEPENDENT']\n",
    "\n",
    "for i in os.listdir('resources\\datasets'):\n",
    "    if 'LCA' in i and '.xlsx' in i:\n",
    "        print(i)\n",
    "        temp = pd.read_excel('resources\\\\datasets\\\\'+i)\n",
    "        for j in ep1:\n",
    "            temp.rename(columns = {j:'EMPLOYER_POC_ADDRESS1'})\n",
    "        for j in ep2:\n",
    "            temp.rename(columns = {j:'EMPLOYER_POC_ADDRESS2'})\n",
    "        for j in h1b:\n",
    "            temp.rename(columns = {j:'H-1B_DEPENDENT'})\n",
    "        temp = temp[headers]\n",
    "\n",
    "        # print(temp.columns)\n",
    "        # temp.to_csv('resources\\\\datasets\\\\'+i.split('.')[0]+'.csv',index=False)"
   ]
  },
  {
   "cell_type": "code",
   "execution_count": null,
   "metadata": {},
   "outputs": [],
   "source": [
    "headers = ['CASE_NUMBER',\n",
    "            'CASE_SUBMITTED',\n",
    "            'DECISION_DATE',\n",
    "            'EMPLOYMENT_START_DATE',\n",
    "            'EMPLOYMENT_END_DATE',\n",
    "            'EMPLOYER_NAME',\n",
    "            'EMPLOYER_CITY',\n",
    "            'EMPLOYER_STATE',\t\n",
    "            'EMPLOYER_POSTAL_CODE',\n",
    "            'SOC_NAME',\n",
    "            'FULL_TIME_POSITION',\n",
    "            'PREVAILING_WAGE',\n",
    "            'PW_UNIT_OF_PAY',\n",
    "            'WAGE_RATE_OF_PAY_FROM',\n",
    "            'WAGE_UNIT_OF_PAY']\n",
    "\n",
    "for i in os.listdir('resources\\datasets'):\n",
    "    if 'H-1B' in i and '.xlsx' in i:\n",
    "        print(i)\n",
    "        temp = pd.read_excel('resources\\\\datasets\\\\'+i)\n",
    "        temp.rename(columns = {'SOC_TITLE':'SOC_NAME',\n",
    "'PERIOD_OF_EMPLOYMENT_START_DATE':'EMPLOYMENT_START_DATE',\n",
    "'PERIOD_OF_EMPLOYMENT_END_DATE':'EMPLOYMENT_END_DATE',\n",
    "'WAGE_RATE_OF_PAY_FROM_1':'WAGE_RATE_OF_PAY_FROM',\n",
    "'WAGE_UNIT_OF_PAY_1':'WAGE_UNIT_OF_PAY',\n",
    "'PREVAILING_WAGE_1':'PREVAILING_WAGE',\n",
    "'PW_UNIT_OF_PAY_1':'PW_UNIT_OF_PAY'},inplace=True)\n",
    "        temp = temp[headers]\n",
    "        \n",
    "        # print(temp.columns)\n",
    "        # temp.to_csv('resources\\\\datasets\\\\'+i.split('.')[0]+'.csv',index=False)"
   ]
  }
 ],
 "metadata": {
  "language_info": {
   "name": "python"
  },
  "orig_nbformat": 4
 },
 "nbformat": 4,
 "nbformat_minor": 2
}
