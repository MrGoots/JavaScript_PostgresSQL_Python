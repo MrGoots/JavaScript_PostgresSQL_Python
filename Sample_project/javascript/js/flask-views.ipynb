{
 "cells": [
  {
   "cell_type": "code",
   "execution_count": 1,
   "metadata": {},
   "outputs": [],
   "source": [
    "from flask import Flask, redirect, url_for, render_template, send_from_directory"
   ]
  },
  {
   "cell_type": "code",
   "execution_count": 2,
   "metadata": {},
   "outputs": [],
   "source": [
    "app = Flask(__name__)"
   ]
  },
  {
   "cell_type": "code",
   "execution_count": 3,
   "metadata": {},
   "outputs": [],
   "source": [
    "@app.route(\"/\")\n",
    "def welcome():\n",
    "    return render_template(\"home.html\")"
   ]
  },
  {
   "cell_type": "code",
   "execution_count": 4,
   "metadata": {},
   "outputs": [],
   "source": [
    "@app.route(\"/home\")\n",
    "def home():\n",
    "    return render_template(\"home.html\")"
   ]
  },
  {
   "cell_type": "code",
   "execution_count": 5,
   "metadata": {},
   "outputs": [],
   "source": [
    "@app.route(\"/home.html\")\n",
    "def homeHTML():\n",
    "    return render_template(\"home.html\")"
   ]
  },
  {
   "cell_type": "code",
   "execution_count": 6,
   "metadata": {},
   "outputs": [],
   "source": [
    "@app.route(\"/charts\")\n",
    "def charts():\n",
    "    return render_template(\"charts.html\")"
   ]
  },
  {
   "cell_type": "code",
   "execution_count": 7,
   "metadata": {},
   "outputs": [],
   "source": [
    "@app.route(\"/charts.html\")\n",
    "def chartsHTML():\n",
    "    return render_template(\"charts.html\")"
   ]
  },
  {
   "cell_type": "code",
   "execution_count": 8,
   "metadata": {},
   "outputs": [],
   "source": [
    "@app.route(\"/map\")\n",
    "def map():\n",
    "    return render_template(\"map.html\")"
   ]
  },
  {
   "cell_type": "code",
   "execution_count": 9,
   "metadata": {},
   "outputs": [],
   "source": [
    "@app.route(\"/map.html\")\n",
    "def mapHTML():\n",
    "    return render_template(\"map.html\")"
   ]
  },
  {
   "cell_type": "code",
   "execution_count": 10,
   "metadata": {},
   "outputs": [],
   "source": [
    "@app.route(\"/sources\")\n",
    "def sources():\n",
    "    return render_template(\"sources.html\")"
   ]
  },
  {
   "cell_type": "code",
   "execution_count": 11,
   "metadata": {},
   "outputs": [],
   "source": [
    "@app.route(\"/sources.html\")\n",
    "def sourcesHTML():\n",
    "    return render_template(\"sources.html\")"
   ]
  },
  {
   "cell_type": "code",
   "execution_count": 12,
   "metadata": {},
   "outputs": [
    {
     "name": "stdout",
     "output_type": "stream",
     "text": [
      " * Serving Flask app '__main__'\n",
      " * Debug mode: off\n"
     ]
    },
    {
     "name": "stderr",
     "output_type": "stream",
     "text": [
      "WARNING: This is a development server. Do not use it in a production deployment. Use a production WSGI server instead.\n",
      " * Running on http://127.0.0.1:5000\n",
      "Press CTRL+C to quit\n",
      "127.0.0.1 - - [12/Oct/2023 20:19:40] \"GET / HTTP/1.1\" 200 -\n",
      "127.0.0.1 - - [12/Oct/2023 20:19:40] \"GET /favicon.ico HTTP/1.1\" 404 -\n",
      "127.0.0.1 - - [12/Oct/2023 20:19:40] \"GET /static/anijs-min.js HTTP/1.1\" 200 -\n",
      "127.0.0.1 - - [12/Oct/2023 20:19:40] \"GET /static/anicollection.css HTTP/1.1\" 200 -\n",
      "127.0.0.1 - - [12/Oct/2023 20:19:40] \"GET /static/home.css HTTP/1.1\" 200 -\n",
      "127.0.0.1 - - [12/Oct/2023 20:19:40] \"GET /static/temperature-background.jpg HTTP/1.1\" 200 -\n",
      "127.0.0.1 - - [12/Oct/2023 20:20:04] \"GET /home.html HTTP/1.1\" 200 -\n",
      "127.0.0.1 - - [12/Oct/2023 20:20:04] \"GET /static/anicollection.css HTTP/1.1\" 304 -\n",
      "127.0.0.1 - - [12/Oct/2023 20:20:04] \"GET /static/home.css HTTP/1.1\" 304 -\n",
      "127.0.0.1 - - [12/Oct/2023 20:20:04] \"GET /static/anijs-min.js HTTP/1.1\" 304 -\n",
      "127.0.0.1 - - [12/Oct/2023 20:20:04] \"GET /static/temperature-background.jpg HTTP/1.1\" 304 -\n",
      "127.0.0.1 - - [12/Oct/2023 20:20:06] \"GET /map.html HTTP/1.1\" 200 -\n",
      "127.0.0.1 - - [12/Oct/2023 20:20:06] \"GET /static/leaflet.extra-markers.min.js HTTP/1.1\" 200 -\n",
      "127.0.0.1 - - [12/Oct/2023 20:20:06] \"GET /static/config.js HTTP/1.1\" 404 -\n",
      "127.0.0.1 - - [12/Oct/2023 20:20:06] \"GET /static/map.css HTTP/1.1\" 200 -\n",
      "127.0.0.1 - - [12/Oct/2023 20:20:06] \"GET /static/leaflet.extra-markers.min.css HTTP/1.1\" 200 -\n",
      "127.0.0.1 - - [12/Oct/2023 20:20:06] \"GET /static/data.js HTTP/1.1\" 200 -\n",
      "127.0.0.1 - - [12/Oct/2023 20:20:06] \"GET /static/logic.js HTTP/1.1\" 200 -\n",
      "127.0.0.1 - - [12/Oct/2023 20:20:06] \"GET /static/anijs-min.js HTTP/1.1\" 304 -\n",
      "127.0.0.1 - - [12/Oct/2023 20:20:06] \"GET /static/Cloud_background_with_grass.jpg HTTP/1.1\" 200 -\n",
      "127.0.0.1 - - [12/Oct/2023 20:20:45] \"GET / HTTP/1.1\" 200 -\n",
      "127.0.0.1 - - [12/Oct/2023 20:20:45] \"GET /static/home.css HTTP/1.1\" 200 -\n",
      "127.0.0.1 - - [12/Oct/2023 20:20:45] \"GET /static/anicollection.css HTTP/1.1\" 200 -\n",
      "127.0.0.1 - - [12/Oct/2023 20:20:45] \"GET /static/anijs-min.js HTTP/1.1\" 200 -\n",
      "127.0.0.1 - - [12/Oct/2023 20:20:45] \"GET /static/temperature-background.jpg HTTP/1.1\" 200 -\n",
      "127.0.0.1 - - [12/Oct/2023 20:20:45] \"GET /favicon.ico HTTP/1.1\" 404 -\n",
      "127.0.0.1 - - [12/Oct/2023 20:20:50] \"GET /map.html HTTP/1.1\" 200 -\n",
      "127.0.0.1 - - [12/Oct/2023 20:20:50] \"GET /static/map.css HTTP/1.1\" 200 -\n",
      "127.0.0.1 - - [12/Oct/2023 20:20:50] \"GET /static/leaflet.extra-markers.min.js HTTP/1.1\" 200 -\n",
      "127.0.0.1 - - [12/Oct/2023 20:20:50] \"GET /static/leaflet.extra-markers.min.css HTTP/1.1\" 200 -\n",
      "127.0.0.1 - - [12/Oct/2023 20:20:50] \"GET /static/data.js HTTP/1.1\" 200 -\n",
      "127.0.0.1 - - [12/Oct/2023 20:20:50] \"GET /static/config.js HTTP/1.1\" 404 -\n",
      "127.0.0.1 - - [12/Oct/2023 20:20:50] \"GET /static/logic.js HTTP/1.1\" 200 -\n",
      "127.0.0.1 - - [12/Oct/2023 20:20:50] \"GET /static/anijs-min.js HTTP/1.1\" 304 -\n",
      "127.0.0.1 - - [12/Oct/2023 20:20:50] \"GET /static/Cloud_background_with_grass.jpg HTTP/1.1\" 200 -\n",
      "127.0.0.1 - - [12/Oct/2023 20:20:58] \"GET /home.html HTTP/1.1\" 200 -\n",
      "127.0.0.1 - - [12/Oct/2023 20:20:58] \"GET /static/home.css HTTP/1.1\" 304 -\n",
      "127.0.0.1 - - [12/Oct/2023 20:20:58] \"GET /static/anicollection.css HTTP/1.1\" 304 -\n",
      "127.0.0.1 - - [12/Oct/2023 20:20:58] \"GET /static/anijs-min.js HTTP/1.1\" 304 -\n",
      "127.0.0.1 - - [12/Oct/2023 20:20:58] \"GET /static/temperature-background.jpg HTTP/1.1\" 304 -\n",
      "127.0.0.1 - - [12/Oct/2023 20:21:00] \"GET /charts.html HTTP/1.1\" 200 -\n",
      "127.0.0.1 - - [12/Oct/2023 20:21:00] \"GET /static/charts.css HTTP/1.1\" 200 -\n",
      "127.0.0.1 - - [12/Oct/2023 20:21:00] \"GET /static/albanyPlot.js HTTP/1.1\" 200 -\n",
      "127.0.0.1 - - [12/Oct/2023 20:21:00] \"GET /static/honoluluPlot.js HTTP/1.1\" 200 -\n",
      "127.0.0.1 - - [12/Oct/2023 20:21:00] \"GET /static/juneauPlot.js HTTP/1.1\" 200 -\n",
      "127.0.0.1 - - [12/Oct/2023 20:21:00] \"GET /static/config.js HTTP/1.1\" 404 -\n",
      "127.0.0.1 - - [12/Oct/2023 20:21:00] \"GET /static/topekaPlot.js HTTP/1.1\" 200 -\n",
      "127.0.0.1 - - [12/Oct/2023 20:21:00] \"GET /static/sacramentoPlot.js HTTP/1.1\" 200 -\n",
      "127.0.0.1 - - [12/Oct/2023 20:21:00] \"GET /static/data.js HTTP/1.1\" 304 -\n",
      "127.0.0.1 - - [12/Oct/2023 20:21:00] \"GET /static/weather-wind.gif HTTP/1.1\" 200 -\n",
      "127.0.0.1 - - [12/Oct/2023 20:22:06] \"GET /charts.html HTTP/1.1\" 200 -\n",
      "127.0.0.1 - - [12/Oct/2023 20:22:06] \"GET /static/data.js HTTP/1.1\" 304 -\n",
      "127.0.0.1 - - [12/Oct/2023 20:22:06] \"GET /static/config.js HTTP/1.1\" 404 -\n",
      "127.0.0.1 - - [12/Oct/2023 20:22:06] \"GET /static/charts.css HTTP/1.1\" 304 -\n",
      "127.0.0.1 - - [12/Oct/2023 20:22:06] \"GET /static/albanyPlot.js HTTP/1.1\" 304 -\n",
      "127.0.0.1 - - [12/Oct/2023 20:22:06] \"GET /static/honoluluPlot.js HTTP/1.1\" 304 -\n",
      "127.0.0.1 - - [12/Oct/2023 20:22:06] \"GET /static/juneauPlot.js HTTP/1.1\" 304 -\n",
      "127.0.0.1 - - [12/Oct/2023 20:22:06] \"GET /static/sacramentoPlot.js HTTP/1.1\" 304 -\n",
      "127.0.0.1 - - [12/Oct/2023 20:22:06] \"GET /static/topekaPlot.js HTTP/1.1\" 304 -\n",
      "127.0.0.1 - - [12/Oct/2023 20:22:06] \"GET /static/weather-wind.gif HTTP/1.1\" 304 -\n",
      "127.0.0.1 - - [12/Oct/2023 20:22:07] \"GET /sources.html HTTP/1.1\" 200 -\n",
      "127.0.0.1 - - [12/Oct/2023 20:22:07] \"GET /static/sources.css HTTP/1.1\" 200 -\n",
      "127.0.0.1 - - [12/Oct/2023 20:22:07] \"GET /static/anicollection.css HTTP/1.1\" 304 -\n",
      "127.0.0.1 - - [12/Oct/2023 20:22:07] \"GET /static/anijs-min.js HTTP/1.1\" 304 -\n",
      "127.0.0.1 - - [12/Oct/2023 20:22:07] \"GET /static/temperature-background.jpg HTTP/1.1\" 304 -\n",
      "127.0.0.1 - - [12/Oct/2023 20:22:13] \"GET /map.html HTTP/1.1\" 200 -\n",
      "127.0.0.1 - - [12/Oct/2023 20:22:13] \"GET /static/config.js HTTP/1.1\" 404 -\n",
      "127.0.0.1 - - [12/Oct/2023 20:22:13] \"GET /static/leaflet.extra-markers.min.css HTTP/1.1\" 304 -\n",
      "127.0.0.1 - - [12/Oct/2023 20:22:13] \"GET /static/map.css HTTP/1.1\" 304 -\n",
      "127.0.0.1 - - [12/Oct/2023 20:22:13] \"GET /static/leaflet.extra-markers.min.js HTTP/1.1\" 304 -\n",
      "127.0.0.1 - - [12/Oct/2023 20:22:13] \"GET /static/data.js HTTP/1.1\" 304 -\n",
      "127.0.0.1 - - [12/Oct/2023 20:22:13] \"GET /static/logic.js HTTP/1.1\" 304 -\n",
      "127.0.0.1 - - [12/Oct/2023 20:22:13] \"GET /static/anijs-min.js HTTP/1.1\" 304 -\n",
      "127.0.0.1 - - [12/Oct/2023 20:22:13] \"GET /static/Cloud_background_with_grass.jpg HTTP/1.1\" 304 -\n",
      "127.0.0.1 - - [12/Oct/2023 20:32:01] \"GET /charts.html HTTP/1.1\" 200 -\n",
      "127.0.0.1 - - [12/Oct/2023 20:32:01] \"GET /static/charts.css HTTP/1.1\" 304 -\n",
      "127.0.0.1 - - [12/Oct/2023 20:32:01] \"GET /static/config.js HTTP/1.1\" 404 -\n",
      "127.0.0.1 - - [12/Oct/2023 20:32:01] \"GET /static/data.js HTTP/1.1\" 304 -\n",
      "127.0.0.1 - - [12/Oct/2023 20:32:01] \"GET /static/juneauPlot.js HTTP/1.1\" 304 -\n",
      "127.0.0.1 - - [12/Oct/2023 20:32:01] \"GET /static/albanyPlot.js HTTP/1.1\" 304 -\n",
      "127.0.0.1 - - [12/Oct/2023 20:32:01] \"GET /static/honoluluPlot.js HTTP/1.1\" 304 -\n",
      "127.0.0.1 - - [12/Oct/2023 20:32:01] \"GET /static/sacramentoPlot.js HTTP/1.1\" 304 -\n",
      "127.0.0.1 - - [12/Oct/2023 20:32:01] \"GET /static/topekaPlot.js HTTP/1.1\" 304 -\n",
      "127.0.0.1 - - [12/Oct/2023 20:32:01] \"GET /static/weather-wind.gif HTTP/1.1\" 304 -\n"
     ]
    }
   ],
   "source": [
    "if __name__ == \"__main__\":\n",
    "    app.run()"
   ]
  }
 ],
 "metadata": {
  "kernelspec": {
   "display_name": "base",
   "language": "python",
   "name": "python3"
  },
  "language_info": {
   "codemirror_mode": {
    "name": "ipython",
    "version": 3
   },
   "file_extension": ".py",
   "mimetype": "text/x-python",
   "name": "python",
   "nbconvert_exporter": "python",
   "pygments_lexer": "ipython3",
   "version": "3.10.12"
  },
  "orig_nbformat": 4,
  "vscode": {
   "interpreter": {
    "hash": "e9a42101162f984bad19d3cfca78072c01813c3f588d3c6ea89a31f0603919d0"
   }
  }
 },
 "nbformat": 4,
 "nbformat_minor": 2
}
